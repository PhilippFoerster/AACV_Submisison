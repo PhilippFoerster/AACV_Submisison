{
 "cells": [
  {
   "cell_type": "code",
   "execution_count": 4,
   "metadata": {},
   "outputs": [],
   "source": [
    "import torch\n",
    "from torch import nn as nn\n",
    "from torch.utils.data import Dataset, DataLoader, Subset\n",
    "from torch.optim import AdamW\n",
    "from torchvision.models.detection import fasterrcnn_resnet50_fpn_v2, fasterrcnn_resnet50_fpn\n",
    "from torchvision.models.detection.faster_rcnn import FastRCNNPredictor\n",
    "from torchvision.ops import nms\n",
    "from torchvision.io import read_image\n",
    "import torchvision.transforms.v2 as T\n",
    "from transformers import get_linear_schedule_with_warmup\n",
    "from tqdm import tqdm\n",
    "import numpy as np\n",
    "import matplotlib.pyplot as plt\n",
    "import math\n",
    "import utils1\n",
    "from utils1 import * \n",
    "from evaluation import *\n",
    "from datasets import *\n",
    "from torchvision.ops import nms, box_iou\n",
    "import torchvision.transforms as transforms\n",
    "from visualisation import *"
   ]
  },
  {
   "cell_type": "code",
   "execution_count": 7,
   "metadata": {},
   "outputs": [],
   "source": [
    "images_path_GTSDB = \"GTSDBDataset\"\n",
    "annotaions_path_GTSDB = \"GTSDBDataset/gt.txt\"\n",
    "\n",
    "dataset_GTSDB = GTSDBDataset(False, images_path_GTSDB, annotaions_path_GTSDB)\n",
    "dataloader_GTSDB = DataLoader(dataset_GTSDB, batch_size=4, pin_memory=True, shuffle=False, collate_fn=collate_fn)\n",
    "\n",
    "train_indices = list(range(600))\n",
    "train_dataset = Subset(dataset_GTSDB, train_indices)\n",
    "train_dataloader = DataLoader(train_dataset, batch_size=4, pin_memory=True, shuffle=False, collate_fn=collate_fn)"
   ]
  },
  {
   "cell_type": "code",
   "execution_count": 8,
   "metadata": {},
   "outputs": [
    {
     "name": "stderr",
     "output_type": "stream",
     "text": [
      "  0%|          | 0/150 [00:00<?, ?it/s]c:\\Users\\phfoe\\anaconda3\\envs\\fm\\lib\\site-packages\\torchvision\\transforms\\v2\\_deprecated.py:43: UserWarning: The transform `ToTensor()` is deprecated and will be removed in a future release. Instead, please use `v2.Compose([v2.ToImage(), v2.ToDtype(torch.float32, scale=True)])`.\n",
      "  warnings.warn(\n",
      "100%|██████████| 150/150 [00:49<00:00,  3.03it/s]"
     ]
    },
    {
     "name": "stdout",
     "output_type": "stream",
     "text": [
      "Correct class: 852\n",
      "Wrong class: 0\n",
      "Not found: 0\n",
      "Too many: 38\n",
      "Mean IoU: 0.9768752455711365\n"
     ]
    },
    {
     "name": "stderr",
     "output_type": "stream",
     "text": [
      "\n"
     ]
    }
   ],
   "source": [
    "dataloader = train_dataloader\n",
    "device = torch.device(\"cuda\" if torch.cuda.is_available() else \"cpu\")\n",
    "localization_model = torch.load(\"C:\\Python\\AACV\\Models\\modelGTSDB_WithoutClasses19.pth\")\n",
    "localization_model.to(device)\n",
    "localization_model.eval()\n",
    "results = evaluate(localization_model, dataloader)"
   ]
  }
 ],
 "metadata": {
  "kernelspec": {
   "display_name": "fm",
   "language": "python",
   "name": "python3"
  },
  "language_info": {
   "codemirror_mode": {
    "name": "ipython",
    "version": 3
   },
   "file_extension": ".py",
   "mimetype": "text/x-python",
   "name": "python",
   "nbconvert_exporter": "python",
   "pygments_lexer": "ipython3",
   "version": "3.10.13"
  }
 },
 "nbformat": 4,
 "nbformat_minor": 2
}
